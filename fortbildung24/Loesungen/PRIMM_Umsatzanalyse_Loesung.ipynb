{
 "cells": [
  {
   "cell_type": "markdown",
   "id": "becb9e07",
   "metadata": {},
   "source": [
    "# PRIMM-Aufgabe: Umsatzanalyse mit Python (Jupyter Notebook)\n",
    "Diese Übung führt Schritt für Schritt durch das PRIMM-Modell:\n",
    "**Predict – Run – Investigate – Modify – Make**.\n",
    "\n",
    "![PRIMM Methode](img/primm.webp)\n",
    "\n",
    "PRIMM ist ein Ansatz, der dazu dient, den Programmierunterricht so zu strukturieren, dass die Lernenden selbst von Anfang an aktiv sind. Dabei erhalten sie im Sinne des Scaffolding ein „Lerngerüst“, welches die Lernenden in passenden Schritten bei der Aneignung von Programmierkompetenzen unterstützt. PRIMM steht für Predict (Vorhersagen) – Run (Ausführen) – Investigate (Untersuchen) – Modify (Verändern) - Make (kreatives Erstellen). Die Methode fördert die Analyse von Programmen; vom Lesen und Interpretieren gelangt man über kleinere Variationen hin zum eigenständigen Schreiben eines Programms.\n",
    "\r\n",
    "Reinold, K.Brichzin, P. (2024). Aktivierender Unterricht von Anfang an mit dem PRIMM-Konzept. Informatische Bildung in Schulen 2(2).\n",
    " https://doi.org/10.18420/ibis-02-02-03\r\n",
    "\n",
    "\n",
    "Ziel: Lernende analysieren und erweitern ein Python-Programm zur Umsatzanalyse."
   ]
  },
  {
   "cell_type": "markdown",
   "id": "af2150f9-8867-4143-b5e0-0903b1db9bff",
   "metadata": {},
   "source": [
    "## Für Ihre Recherche: Python-Kurse und Bücher\n",
    "\n",
    "- **Einführung ins Programmieren mit Python**  \n",
    "  https://pythonbuch.com/index.html\n",
    "\n",
    "- **Python Online-Kurs CS Circles**  \n",
    "  https://cscircles.cemc.uwaterloo.ca/using-website-de/\n",
    "\n",
    "- **Python-Tutor zur Visualisierung**  \n",
    "  https://pythontutor.com/\n"
   ]
  },
  {
   "cell_type": "markdown",
   "id": "024ceeb4-6edc-4eed-8dd4-3e56092922fb",
   "metadata": {},
   "source": [
    "## Situation: \n",
    "Ein Restaurantbesitzer möchte seine Tagesumsätze analysieren.\n",
    "![Gastronom analysiert Umsätze](img/gastro.png)"
   ]
  },
  {
   "cell_type": "markdown",
   "id": "aa3d18b3",
   "metadata": {},
   "source": [
    "## 1. Predict (Vorhersagen)\n",
    "Folgender Python-Code liegt vor:"
   ]
  },
  {
   "cell_type": "code",
   "execution_count": null,
   "id": "02f76d04",
   "metadata": {},
   "outputs": [],
   "source": [
    "umsatz = [1800, 2100, 1900, 2200, 2000, 1700, 2300]\n",
    "\n",
    "if len(umsatz) == 0:\n",
    "    print(\"Keine Umsatzzahlen vorhanden.\")\n",
    "else:\n",
    "    gesamt = 0\n",
    "    for betrag in umsatz:\n",
    "        gesamt += betrag\n",
    "\n",
    "    durchschnitt = gesamt / len(umsatz)\n",
    "    print(\"Durchschnittlicher Umsatz:\", durchschnitt)"
   ]
  },
  {
   "cell_type": "markdown",
   "id": "3716c0a8",
   "metadata": {},
   "source": [
    "- Welche Ausgabe erwarten Sie?\n",
    "- Beschreiben Sie Ihrem Lernpartner, was in der `for`-Schleife passiert."
   ]
  },
  {
   "cell_type": "markdown",
   "id": "6ef93a52",
   "metadata": {},
   "source": [
    "## 2. Run (Ausführen)\n",
    "Führen Sie den Code aus und vergleichen Sie das Ergebnis mit Ihrer Vorhersage."
   ]
  },
  {
   "cell_type": "markdown",
   "id": "c45f3a8c",
   "metadata": {},
   "source": [
    "## 3. Investigate (Untersuchen)\n",
    "- Was passiert, wenn Sie `umsatz = []` setzen würden?\n",
    "- Was passiert, wenn Sie `print(betrag)` in die Schleife einfügen?"
   ]
  },
  {
   "cell_type": "markdown",
   "id": "a0165ea1",
   "metadata": {},
   "source": [
    "## 4. Modify (Verändern)\n",
    "Ergänzen Sie den Code, sodass zusätzlich Folgendes ausgegeben wird:\n",
    "- Höchster Umsatz (Tipp: max()-Funktion)\n",
    "- Niedrigster Umsatz (Tipp: min()-Funktion)\n",
    "- Anzahl der Tage mit Umsatz über 2.000 €"
   ]
  },
  {
   "cell_type": "code",
   "execution_count": null,
   "id": "26839cae",
   "metadata": {},
   "outputs": [],
   "source": [
    "umsatz = [1800, 2100, 1900, 2200, 2000, 1700, 2300]\n",
    "\n",
    "gesamt = 0\n",
    "tage_ueber_2000 = 0\n",
    "for betrag in umsatz:\n",
    "    gesamt += betrag\n",
    "    if betrag > 2000:\n",
    "        tage_ueber_2000 += 1\n",
    "\n",
    "durchschnitt = gesamt / len(umsatz)\n",
    "max_umsatz = max(umsatz)\n",
    "min_umsatz = min(umsatz)\n",
    "\n",
    "print(\"Durchschnittlicher Umsatz:\", durchschnitt)\n",
    "print(\"Höchster Umsatz:\", max_umsatz)\n",
    "print(\"Niedrigster Umsatz:\", min_umsatz)\n",
    "print(\"Tage mit Umsatz über 2.000 €:\", tage_ueber_2000)"
   ]
  },
  {
   "cell_type": "markdown",
   "id": "33e38ff1",
   "metadata": {},
   "source": [
    "## 5. Make (Erstellen)\n",
    "Erweitern Sie das Programm um neue Funktionalitäten:\n",
    "- Der Nutzer kann eine neue Umsatzzahl eingeben\n",
    "- Positive Rückmeldung bei mehr als 3 Tagen mit über 2.500 €\n",
    "- Ausgabe der Anzahl aller Umsatzwerte\n",
    "\n",
    "**Tipp: Informieren Sie sich über die input()-Funktion und das Hinzufügen von Werten in Listen**"
   ]
  },
  {
   "cell_type": "code",
   "execution_count": null,
   "id": "dcfa0822",
   "metadata": {},
   "outputs": [],
   "source": [
    "umsatz = [1800, 2100, 1900, 2200, 2000, 1700, 2300]\n",
    "\n",
    "neuer_wert = int(input(\"Bitte geben Sie eine weitere Umsatzzahl ein: \"))\n",
    "umsatz.append(neuer_wert)\n",
    "\n",
    "spitzentage = 0\n",
    "gesamt = 0\n",
    "\n",
    "for betrag in umsatz:\n",
    "    gesamt += betrag\n",
    "    if betrag > 2500:\n",
    "        spitzentage += 1\n",
    "\n",
    "durchschnitt = gesamt / len(umsatz)\n",
    "\n",
    "print(\"Anzahl der Umsatzdaten:\", len(umsatz))\n",
    "print(\"Durchschnittlicher Umsatz:\", durchschnitt)\n",
    "print(\"Anzahl der umsatzstarken Tage:\", spitzentage)\n",
    "\n",
    "if spitzentage > 3:\n",
    "    print(\"🎉 Großartig! Es gab viele umsatzstarke Tage.\")"
   ]
  },
  {
   "cell_type": "markdown",
   "id": "2cef0799",
   "metadata": {},
   "source": [
    "## 6. Make - Zusatzaufgabe\n",
    "Erweitern Sie das Programm um eine zusätzliche sinnvolle Funktionalität.\n",
    "Beispiel: Berechnung der prozentualen Abweichung eines neuen Umsatzwertes vom bisherigen Durchschnitt."
   ]
  },
  {
   "cell_type": "code",
   "execution_count": null,
   "id": "0aa28338",
   "metadata": {},
   "outputs": [],
   "source": [
    "umsatz = [1800, 2100, 1900, 2200, 2000, 1700, 2300]\n",
    "\n",
    "# Durchschnitt vor neuer Eingabe\n",
    "alter_durchschnitt = sum(umsatz) / len(umsatz)\n",
    "\n",
    "neuer_wert = int(input(\"Bitte geben Sie eine weitere Umsatzzahl ein: \"))\n",
    "umsatz.append(neuer_wert)\n",
    "\n",
    "# Neue Berechnungen\n",
    "neuer_durchschnitt = sum(umsatz) / len(umsatz)\n",
    "abweichung = ((neuer_wert - alter_durchschnitt) / alter_durchschnitt) * 100\n",
    "\n",
    "print(\"Neuer Wert:\", neuer_wert)\n",
    "print(\"Alter Durchschnitt:\", round(alter_durchschnitt, 2))\n",
    "print(\"Neue Anzahl an Daten:\", len(umsatz))\n",
    "print(\"Neuer Durchschnitt:\", round(neuer_durchschnitt, 2))\n",
    "print(\"Prozentuale Abweichung des neuen Werts vom alten Durchschnitt:\", round(abweichung, 2), \"%\")\n",
    "\n",
    "# Rückmeldung für starke Umsatztage\n",
    "spitzentage = sum(1 for betrag in umsatz if betrag > 2500)\n",
    "\n",
    "if spitzentage > 3:\n",
    "    print(\"🎉 Großartig! Es gab viele umsatzstarke Tage.\")"
   ]
  },
  {
   "cell_type": "code",
   "execution_count": null,
   "id": "bcdc0b2e-9493-4a93-a265-a30e8c80488d",
   "metadata": {},
   "outputs": [],
   "source": []
  }
 ],
 "metadata": {
  "kernelspec": {
   "display_name": "Python [conda env:Orange]",
   "language": "python",
   "name": "conda-env-Orange-py"
  },
  "language_info": {
   "codemirror_mode": {
    "name": "ipython",
    "version": 3
   },
   "file_extension": ".py",
   "mimetype": "text/x-python",
   "name": "python",
   "nbconvert_exporter": "python",
   "pygments_lexer": "ipython3",
   "version": "3.11.8"
  }
 },
 "nbformat": 4,
 "nbformat_minor": 5
}
