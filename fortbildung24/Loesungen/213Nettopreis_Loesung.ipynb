{
 "cells": [
  {
   "cell_type": "markdown",
   "metadata": {
    "tags": []
   },
   "source": [
    "# Grundlagen Python - Übungen\n",
    "\n",
    "## 3 Nettopreis\n",
    "\n",
    "Schreibe ein Programm, bei dem der Nutzer den Bruttopreis einer Ware eingibt und den Nettopreis erhält\n"
   ]
  },
  {
   "cell_type": "code",
   "execution_count": 1,
   "metadata": {},
   "outputs": [
    {
     "name": "stdin",
     "output_type": "stream",
     "text": [
      "Gebe den Bruttobetrag ein: 119\n"
     ]
    },
    {
     "name": "stdout",
     "output_type": "stream",
     "text": [
      "Der Nettobetrag lautet 100.0\n"
     ]
    }
   ],
   "source": [
    "brutto=int(input(\"Gebe den Bruttobetrag ein:\"))\n",
    "netto=(brutto*100)/119\n",
    "\n",
    "print(\"Der Nettobetrag lautet\",netto)"
   ]
  },
  {
   "cell_type": "code",
   "execution_count": null,
   "metadata": {},
   "outputs": [],
   "source": []
  }
 ],
 "metadata": {
  "kernelspec": {
   "display_name": "Python 3 (ipykernel)",
   "language": "python",
   "name": "python3"
  },
  "language_info": {
   "codemirror_mode": {
    "name": "ipython",
    "version": 3
   },
   "file_extension": ".py",
   "mimetype": "text/x-python",
   "name": "python",
   "nbconvert_exporter": "python",
   "pygments_lexer": "ipython3",
   "version": "3.11.7"
  }
 },
 "nbformat": 4,
 "nbformat_minor": 4
}
