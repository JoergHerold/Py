{
 "cells": [
  {
   "cell_type": "markdown",
   "metadata": {
    "tags": []
   },
   "source": [
    "# Grundlagen Python - Übungen\n",
    "\n",
    "## 2 Zahlenspiel\n",
    "\n",
    "Lassen Sie den Benutzer eine natürliche Zahl eingeben und lassen Sie Python folgendes berechnen:\n",
    "\n",
    "- Erhöhe die Zahl um 1\n",
    "- Verdopple die Zahl\n",
    "- Subtrahiere 1 von der Zahl\n",
    "- Nimm die Zahl ins Quadrat\n",
    "- Mache eine Ausgabe: Die Zahl lautet…\n"
   ]
  },
  {
   "cell_type": "markdown",
   "metadata": {},
   "source": [
    "\n",
    "$$ \\left( (x + 1) \\cdot 2 - 1 \\right)^2 $$\n"
   ]
  },
  {
   "cell_type": "code",
   "execution_count": null,
   "metadata": {},
   "outputs": [],
   "source": []
  }
 ],
 "metadata": {
  "kernelspec": {
   "display_name": "Python 3 (ipykernel)",
   "language": "python",
   "name": "python3"
  },
  "language_info": {
   "codemirror_mode": {
    "name": "ipython",
    "version": 3
   },
   "file_extension": ".py",
   "mimetype": "text/x-python",
   "name": "python",
   "nbconvert_exporter": "python",
   "pygments_lexer": "ipython3",
   "version": "3.11.7"
  }
 },
 "nbformat": 4,
 "nbformat_minor": 4
}
