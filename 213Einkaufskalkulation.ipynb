{
 "cells": [
  {
   "cell_type": "markdown",
   "metadata": {},
   "source": [
    "# Grundlagen Python - Übungen\n",
    "\n",
    "## 3 Nettopreis\n",
    "\n",
    "Schreibe ein Programm, bei dem der Nutzer den Bruttopreis einer Ware eingibt und den Nettopreis erhält"
   ]
  },
  {
   "cell_type": "code",
   "execution_count": null,
   "metadata": {},
   "outputs": [],
   "source": []
  },
  {
   "cell_type": "markdown",
   "metadata": {
    "tags": []
   },
   "source": [
    "## 4 Einkaufskalkulation\n",
    "\n",
    "Der Benutzer soll zu Beginn den Listeneinkaufspreis und die Bezugskosten eingeben. Mit Hilfe von Python soll dann der Bezugspreis berechnet werden. Der Rabatt beträgt 10%, der Skonto 2%.\n"
   ]
  },
  {
   "attachments": {},
   "cell_type": "markdown",
   "metadata": {},
   "source": [
    "<img src=\"https://raw.githubusercontent.com/JoergHerold/Py/main/img/114Einkaufskalkulation.png\" style=\"width: 50%;\">\r\n"
   ]
  },
  {
   "cell_type": "markdown",
   "metadata": {},
   "source": [
    "# Zusatzaufgabe\n",
    "\n",
    "Schon fertig? Dann erweitern Sie die Kalkulation bitte noch um eine Eingabe für Skonto und Rabatt sowie um die Umsatzsteuer."
   ]
  },
  {
   "attachments": {},
   "cell_type": "markdown",
   "metadata": {},
   "source": [
    "<img src=\"https://raw.githubusercontent.com/JoergHerold/Python/main/img/215EinkaufskalkUst.png?token=GHSAT0AAAAAACUAQ2E2GCKBDYIUC2C2ZN2GZUP5HKQ\" style=\"width: 50%;\">\r\n",
    "\r\n"
   ]
  },
  {
   "cell_type": "code",
   "execution_count": null,
   "metadata": {},
   "outputs": [],
   "source": []
  }
 ],
 "metadata": {
  "kernelspec": {
   "display_name": "Python 3 (ipykernel)",
   "language": "python",
   "name": "python3"
  },
  "language_info": {
   "codemirror_mode": {
    "name": "ipython",
    "version": 3
   },
   "file_extension": ".py",
   "mimetype": "text/x-python",
   "name": "python",
   "nbconvert_exporter": "python",
   "pygments_lexer": "ipython3",
   "version": "3.11.7"
  }
 },
 "nbformat": 4,
 "nbformat_minor": 4
}
