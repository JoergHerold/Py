{
 "cells": [
  {
   "cell_type": "markdown",
   "metadata": {
    "tags": []
   },
   "source": [
    "# Grundlagen Python - Übungen\n",
    "\n",
    "## 1 Kino \n",
    "\n",
    "Erstellen Sie eine Anmeldemaske für Kartenreservierungen im Kino. Der Nutzer soll aufgefordert werden, seinen Vor- und Nachnamen sowie die Anzahl der gewünschten Karten zu nennen. Alle diese Informationen sollen gespeichert und anschließend übersichtlich ausgegeben werden. Geben Sie zusätzlich den Gesamtpreis der Reservierung an, wenn eine Karte 8,00€ kostet.\n"
   ]
  },
  {
   "attachments": {},
   "cell_type": "markdown",
   "metadata": {},
   "source": [
    "<img src=\"img/kino.jpg\" style=\"width: 30%;\">\r\n"
   ]
  },
  {
   "cell_type": "code",
   "execution_count": null,
   "metadata": {},
   "outputs": [],
   "source": []
  }
 ],
 "metadata": {
  "kernelspec": {
   "display_name": "Python 3 (ipykernel)",
   "language": "python",
   "name": "python3"
  },
  "language_info": {
   "codemirror_mode": {
    "name": "ipython",
    "version": 3
   },
   "file_extension": ".py",
   "mimetype": "text/x-python",
   "name": "python",
   "nbconvert_exporter": "python",
   "pygments_lexer": "ipython3",
   "version": "3.11.7"
  }
 },
 "nbformat": 4,
 "nbformat_minor": 4
}
