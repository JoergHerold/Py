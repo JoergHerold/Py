{
 "cells": [
  {
   "cell_type": "markdown",
   "id": "7715a957-c22c-47f5-98bb-00041c147548",
   "metadata": {},
   "source": [
    "# What is PRIMM?\n",
    "\n",
    "Do your students find programming difficult? Are they staring blankly at a blank editor window not knowing where to start? Well they are not alone. Research has shown that many students find it difficult to write a program from scratch. As an educator, you probably use a variety of techniques to help them, presumably some of the strategies that helped you yourself to learn to program.\n",
    "\n",
    "**PRIMM** is an approach to planning programming lessons and activities and includes the following stages:\n",
    "\n",
    "- **Predict**\n",
    "- **Run**\n",
    "- **Investigate**\n",
    "- **Modify**\n",
    "- **Make**\n",
    "\n",
    "These stages are used in planning lessons and activities and are designed to support learners at all stages of learning programming in school, not just complete beginners.\n",
    "\n",
    "For more information and teaching resources, visit the official PRIMM website: [https://primmportal.com/](https://primmportal.com/)\n",
    "\n"
   ]
  },
  {
   "cell_type": "markdown",
   "id": "2d697e6b-e286-4482-a23e-525379e6e088",
   "metadata": {},
   "source": [
    "![PRIMM Methode](img/primm.webp)"
   ]
  },
  {
   "cell_type": "markdown",
   "id": "05b8ea93-8d1d-42ac-81cf-d2e5066a5814",
   "metadata": {},
   "source": [
    "# PRIMM Arbeitsblatt (Original: King's College - adapiert auf Juypter Notebook)"
   ]
  },
  {
   "cell_type": "code",
   "execution_count": null,
   "id": "cbb4b0ab-de8d-4b69-8681-24e272ed516a",
   "metadata": {},
   "outputs": [],
   "source": []
  },
  {
   "cell_type": "markdown",
   "id": "7e8a675a",
   "metadata": {},
   "source": [
    "# Activity Sheet 2: Making choices (if-else-Bedingung)"
   ]
  },
  {
   "cell_type": "markdown",
   "id": "03d20b91",
   "metadata": {},
   "source": [
    "Last week we were using print() and input() statements to communicate with a  computer program written in Python. Today we will write programs that do different things depending on what the person using the keyboard (the user) does."
   ]
  },
  {
   "cell_type": "markdown",
   "id": "3157bc9f",
   "metadata": {},
   "source": [
    "**Task 1 (Predict):** In pairs, look at the program below and write out what you think might happen when it runs"
   ]
  },
  {
   "cell_type": "markdown",
   "id": "0be82e9e",
   "metadata": {},
   "source": [
    "**Task 2 (Run):** Run the programm and see if it does what yout think it might do."
   ]
  },
  {
   "cell_type": "code",
   "execution_count": null,
   "id": "46635604",
   "metadata": {},
   "outputs": [],
   "source": [
    "def conversation():\n",
    "    print(\"Welcome to my conversation program\")\n",
    "    print()\n",
    "    print(\"Do you like cycling? Answer yes or no\")\n",
    "    answer = input()\n",
    "    if answer == \"yes\":\n",
    "        print(\"That's good - you will get very fit\")\n",
    "    else:\n",
    "        print(\"Perhaps you like some other sport. \")\n",
    "    print(\"Goodbye\")\n",
    "\n",
    "conversation()\n",
    "\n"
   ]
  },
  {
   "cell_type": "markdown",
   "id": "8267a2c6",
   "metadata": {},
   "source": [
    "Did the program run as you predicted? ____________________________________"
   ]
  },
  {
   "cell_type": "markdown",
   "id": "9430050d",
   "metadata": {},
   "source": [
    "**Task 3 (Investigate):** There are a few new concepts in this program. In pairs, work out the answers to the following questions by examining the code and running it a few times."
   ]
  },
  {
   "cell_type": "markdown",
   "id": "56f9f490",
   "metadata": {},
   "source": [
    "1 What would happen if the program used the word Print() instead of print()?"
   ]
  },
  {
   "cell_type": "markdown",
   "id": "6aced8cc",
   "metadata": {},
   "source": [
    "…………………………………………………………………………………………………………"
   ]
  },
  {
   "cell_type": "markdown",
   "id": "74ceaca2",
   "metadata": {},
   "source": [
    "2 What would happen if you type “Yes” instead of “yes” or “no” when running the program ? (try it and see)"
   ]
  },
  {
   "cell_type": "markdown",
   "id": "918e2c3b",
   "metadata": {},
   "source": [
    "…………………………………………………………………………………………………………"
   ]
  },
  {
   "cell_type": "markdown",
   "id": "347c05ed",
   "metadata": {},
   "source": [
    "…………………………………………………………………………………………………………"
   ]
  },
  {
   "cell_type": "markdown",
   "id": "cc39e12b",
   "metadata": {},
   "source": [
    "3 What is def used for?"
   ]
  },
  {
   "cell_type": "markdown",
   "id": "1f6254e8",
   "metadata": {},
   "source": [
    "…………………………………………………………………………………………………………"
   ]
  },
  {
   "cell_type": "markdown",
   "id": "c2d539c1",
   "metadata": {},
   "source": [
    "…………………………………………………………………………………………………………"
   ]
  },
  {
   "cell_type": "markdown",
   "id": "24c220a9",
   "metadata": {},
   "source": [
    "4 Why does the program include conversation() at the bottom of the program?"
   ]
  },
  {
   "cell_type": "markdown",
   "id": "c1a62147",
   "metadata": {},
   "source": [
    "…………………………………………………………………………………………………………"
   ]
  },
  {
   "cell_type": "markdown",
   "id": "b4f3b521",
   "metadata": {},
   "source": [
    "5 Why do you need a colon : at the end of the if statement and the word else?"
   ]
  },
  {
   "cell_type": "markdown",
   "id": "73375385",
   "metadata": {},
   "source": [
    "…………………………………………………………………………………………………………"
   ]
  },
  {
   "cell_type": "markdown",
   "id": "f4c633a0",
   "metadata": {},
   "source": [
    "6 What is the difference between = and == ? Both are used in this program."
   ]
  },
  {
   "cell_type": "markdown",
   "id": "f6888827",
   "metadata": {},
   "source": [
    "…………………………………………………………………………………………………………"
   ]
  },
  {
   "cell_type": "markdown",
   "id": "c52db0ef",
   "metadata": {},
   "source": [
    "…………………………………………………………………………………………………………"
   ]
  },
  {
   "cell_type": "markdown",
   "id": "f1a4a690",
   "metadata": {},
   "source": [
    "7 What would be the difference between running these two lines"
   ]
  },
  {
   "cell_type": "markdown",
   "id": "a4cf99e7",
   "metadata": {},
   "source": [
    "answer = input()"
   ]
  },
  {
   "cell_type": "markdown",
   "id": "db34b7f0",
   "metadata": {},
   "source": [
    "answer = input(“Select 1 or 2…”) ?"
   ]
  },
  {
   "cell_type": "markdown",
   "id": "0a9d996b",
   "metadata": {},
   "source": [
    "…………………………………………………………………………………………………………"
   ]
  },
  {
   "cell_type": "markdown",
   "id": "2f2ccf9b",
   "metadata": {},
   "source": [
    "…………………………………………………………………………………………………………"
   ]
  },
  {
   "cell_type": "markdown",
   "id": "5a93d4c3",
   "metadata": {},
   "source": [
    "8 Why is print(“Goodbye”) a few spaces **left** of the lines above? What happens if you change this?"
   ]
  },
  {
   "cell_type": "markdown",
   "id": "bf614861",
   "metadata": {},
   "source": [
    "…………………………………………………………………………………………………………"
   ]
  },
  {
   "cell_type": "markdown",
   "id": "03027c1b",
   "metadata": {},
   "source": [
    "…………………………………………………………………………………………………………"
   ]
  },
  {
   "cell_type": "markdown",
   "id": "5c73943a",
   "metadata": {},
   "source": [
    "Now add comments (beginning with #) to the program to make sure everything you understand is included in your program for future reference.  When you think you understand how this program works then go on to the exercises."
   ]
  },
  {
   "cell_type": "markdown",
   "id": "2dc2b467",
   "metadata": {},
   "source": [
    "**Task 4 (Modify + Make)**: Exercises"
   ]
  },
  {
   "cell_type": "code",
   "execution_count": null,
   "id": "a4d3718f-ecf1-4bdd-856e-987bf57e0a15",
   "metadata": {},
   "outputs": [],
   "source": [
    "def conversation():\n",
    "    print(\"Welcome to my conversation program\")\n",
    "    print()\n",
    "    print(\"Do you like cycling? Answer yes or no\")\n",
    "    answer = input()\n",
    "    if answer == \"yes\":\n",
    "        print(\"That's good - you will get very fit\")\n",
    "    else:\n",
    "        print(\"Perhaps you like some other sport. \")\n",
    "    print(\"Goodbye\")\n",
    "\n",
    "conversation()\n",
    "\n"
   ]
  },
  {
   "cell_type": "markdown",
   "id": "da82a67b",
   "metadata": {},
   "source": [
    "In pairs, try these challenges: "
   ]
  },
  {
   "cell_type": "markdown",
   "id": "07e8de2a",
   "metadata": {},
   "source": [
    "1 **Modify** the program to have a conversation with somebody about sport. An example is given below but you can add your own questions."
   ]
  },
  {
   "cell_type": "markdown",
   "id": "6093c4ec",
   "metadata": {},
   "source": [
    "2 Now write a function cities() and ask “How many cities are there in England?”. Now you are asking a question with a numeric answer use int(input(…)) to do this. The extra int() wrapped around the input will convert what you typed in into a whole number."
   ]
  },
  {
   "cell_type": "markdown",
   "id": "f12e5da2",
   "metadata": {},
   "source": [
    "**Using > or < (greater than or less than) (Make)**"
   ]
  },
  {
   "cell_type": "code",
   "execution_count": null,
   "id": "97121bb7-dfdd-43b2-840a-faa677c9fae7",
   "metadata": {},
   "outputs": [],
   "source": [
    "#Dein Programmcode"
   ]
  },
  {
   "cell_type": "markdown",
   "id": "62c054c0",
   "metadata": {},
   "source": [
    "3 Write a new program to ask the user to enter a number bigger than 10. Give them some feedback if they have entered a valid number or not.  Remember to use int(input()) – see what error you get if you forget to use it."
   ]
  },
  {
   "cell_type": "markdown",
   "id": "8c38b635",
   "metadata": {},
   "source": [
    "4 Now ask the user for their score in test. If they got less than 50 tell them that they have failed the test, otherwise tell them they have passed."
   ]
  },
  {
   "cell_type": "markdown",
   "id": "6aff6c6c",
   "metadata": {},
   "source": [
    "**Using >=  (greater than or equal to>)**"
   ]
  },
  {
   "cell_type": "markdown",
   "id": "6f55abc6",
   "metadata": {},
   "source": [
    "5 Now ask the user of your program for their age. If they are 13 or over tell them they can have a paper round."
   ]
  },
  {
   "cell_type": "markdown",
   "id": "0c8ec409",
   "metadata": {},
   "source": [
    "**Using !=  (not equal to) (Make)**"
   ]
  },
  {
   "cell_type": "markdown",
   "id": "cc424af6",
   "metadata": {},
   "source": [
    "6 Write a program to ask the user to enter any number. As long as the number is NOT 99 that’s OK. Test that the number is not 99 by using if number != 99."
   ]
  },
  {
   "cell_type": "code",
   "execution_count": null,
   "id": "a117d823-40e2-481c-89df-1b61542e4a33",
   "metadata": {},
   "outputs": [],
   "source": [
    "#Dein Programmcode"
   ]
  },
  {
   "cell_type": "markdown",
   "id": "598f9d11",
   "metadata": {},
   "source": [
    "**Extension (Make)**"
   ]
  },
  {
   "cell_type": "markdown",
   "id": "6337547d",
   "metadata": {},
   "source": [
    "Write a program that asks the user to enter a number between 1 and 20. You can use and to check the condition. Give them positive feedback if it’s OK and say “too low” if it’s less than 1, and “too high” if it’s more than 20."
   ]
  },
  {
   "cell_type": "markdown",
   "id": "bc9ba1fd",
   "metadata": {},
   "source": [
    "Make a note of any errors that you come across in your exercise book and how you fixed them."
   ]
  },
  {
   "cell_type": "code",
   "execution_count": null,
   "id": "60db8d3c-b99b-400b-8d5e-bdd1b5d3b302",
   "metadata": {},
   "outputs": [],
   "source": [
    "#Dein Programmcode"
   ]
  },
  {
   "cell_type": "markdown",
   "id": "e934e293-6ec8-4968-bc7c-b4bc340c3888",
   "metadata": {},
   "source": [
    "# Key concepts from this sheet\n",
    "\n",
    "| **Term**     | **What it means**                                                                                   | **How to do it in Python** |\n",
    "|--------------|-----------------------------------------------------------------------------------------------------|-----------------------------|\n",
    "| Selection    | Where there is a choice point in the program design and an if statement is used to create more than one possible pathway. | ![If-Else Example](img/Bild1.png) |\n",
    "| Condition    | What we test for inside an if statement.                                                            | ![Comparison Operators](img/Bild2.png) |\n",
    "| Testing      | Testing is essential to make sure that each pathway works correctly.                                | Run the program as many times as there are options or combinations of options to ensure each pathway works. You can plan this using a test plan which is a table to record the results. A test plan makes sure your testing is systematic. |\n"
   ]
  },
  {
   "cell_type": "markdown",
   "id": "efff7390-aeb2-4461-987d-0fda56cd67c1",
   "metadata": {},
   "source": []
  },
  {
   "cell_type": "code",
   "execution_count": null,
   "id": "5c7c8b2b-0332-4ae3-975f-a81bc861ea3d",
   "metadata": {},
   "outputs": [],
   "source": []
  }
 ],
 "metadata": {
  "kernelspec": {
   "display_name": "Python [conda env:Orange]",
   "language": "python",
   "name": "conda-env-Orange-py"
  },
  "language_info": {
   "codemirror_mode": {
    "name": "ipython",
    "version": 3
   },
   "file_extension": ".py",
   "mimetype": "text/x-python",
   "name": "python",
   "nbconvert_exporter": "python",
   "pygments_lexer": "ipython3",
   "version": "3.11.8"
  }
 },
 "nbformat": 4,
 "nbformat_minor": 5
}
